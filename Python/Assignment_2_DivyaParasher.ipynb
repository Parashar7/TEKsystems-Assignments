{
 "cells": [
  {
   "cell_type": "markdown",
   "id": "16d99896",
   "metadata": {},
   "source": [
    "### 1.\tCreate a python program to find duplicate files by content. User will input path and it will scan all directories, sub-directories to find all duplicates files.\n",
    "Delete the found duplicate file.\n",
    "[Hint: use hashlib]"
   ]
  },
  {
   "cell_type": "code",
   "execution_count": 3,
   "id": "28ba8d52",
   "metadata": {},
   "outputs": [
    {
     "name": "stdout",
     "output_type": "stream",
     "text": [
      "All files in the directory:  ['c1.txt', 'c2.txt', 'c3.txt', 'c4.txt', 'c5.txt']\n",
      "Files wih same content are:  {'c3.txt', 'c2.txt', 'c1.txt'}\n"
     ]
    }
   ],
   "source": [
    "import hashlib\n",
    "import os\n",
    "directory=[]\n",
    "dirpath=\"C:/Users/dparasher/OneDrive - ALLEGIS GROUP/Desktop/file\"\n",
    "\n",
    "\n",
    "for(dir_path,dir_names,file_name) in os.walk(dirpath):\n",
    "    directory.extend(file_name)\n",
    "\n",
    "hashes = {}\n",
    "result = set()\n",
    "for i in range(len(directory)):\n",
    "    fileObj = open('C:/Users/dparasher/OneDrive - ALLEGIS GROUP/Desktop/file/'+directory[i],'r')\n",
    "    content = fileObj.read()\n",
    "    content=str(content)\n",
    "\n",
    "    message = hashlib.sha256()\n",
    "    message.update(bytes(content, 'utf-8'))\n",
    "    hashcode=message.hexdigest()\n",
    "\n",
    "    if hashcode in hashes.keys():\n",
    "        result.add(hashes[hashcode])\n",
    "        result.add(directory[i])\n",
    "\n",
    "    else:\n",
    "        hashes[hashcode]=directory[i]\n",
    "\n",
    "print(\"All files in the directory: \", os.listdir(\"C:/Users/dparasher/OneDrive - ALLEGIS GROUP/Desktop/file\"))\n",
    "print(\"Files wih same content are: \", result)"
   ]
  },
  {
   "cell_type": "markdown",
   "id": "7e94cd1b",
   "metadata": {},
   "source": [
    "### 2.\tGenerate random Password with exact length = 6, with minimum 1 uppercase, 2 lowercase, 2 digits, and remaining special characters.\n",
    "Using these packages [random, strings]"
   ]
  },
  {
   "cell_type": "code",
   "execution_count": 4,
   "id": "6577aea4",
   "metadata": {},
   "outputs": [
    {
     "name": "stdout",
     "output_type": "stream",
     "text": [
      "Password: \"R%OnS\n"
     ]
    }
   ],
   "source": [
    "import random\n",
    "import string\n",
    "\n",
    "characters = string.ascii_letters + string.digits + string.punctuation\n",
    "password = ''.join(random.choice(characters) for i in range(6))\n",
    "print(\"Password:\", password)"
   ]
  },
  {
   "cell_type": "markdown",
   "id": "539e18c3",
   "metadata": {},
   "source": [
    "### 3.\tCreate 2D array and update the same 2D array provided that every prime number position should be replaced by cube of the positioned number."
   ]
  },
  {
   "cell_type": "code",
   "execution_count": 23,
   "id": "84de1e8d",
   "metadata": {},
   "outputs": [
    {
     "name": "stdout",
     "output_type": "stream",
     "text": [
      "Origial array:-\n",
      "[[1 2 3]\n",
      " [4 5 6]\n",
      " [7 8 9]]\n",
      "\n",
      "Modified array:-\n",
      "[[  1   8  27]\n",
      " [ 64   5 216]\n",
      " [  7 512   9]]\n"
     ]
    }
   ],
   "source": [
    "import numpy as np\n",
    "\n",
    "# mat=np.ones((4,4), dtype='int64')\n",
    "#\n",
    "# b=1\n",
    "# for i in range(0,4):\n",
    "#     for j in range(0,4):\n",
    "#         mat[i][j]=b\n",
    "#         b+=1\n",
    "# print(mat)\n",
    "#\n",
    "# flag=False\n",
    "#\n",
    "# for i in range(4):\n",
    "#     for j in range(4):\n",
    "#         num=mat[i][j]\n",
    "#         if num==1:\n",
    "#             mat[i][j]=1\n",
    "#         elif num>1:\n",
    "#             for k in range(2, num):\n",
    "#                 if(num%i)==0:\n",
    "#                     mat[i][j]=num\n",
    "#                     flag=True\n",
    "#                     break\n",
    "#                 else:\n",
    "#                     mat[i][j]=num*num*num\n",
    "\n",
    "# import numpy as np\n",
    "# import math\n",
    "# def isPrime(num):\n",
    "#\n",
    "#     for i in range(2,int(math.sqrt(num))+1):\n",
    "#         if num%2==0:\n",
    "#             return False;\n",
    "#\n",
    "#     return True;\n",
    "#\n",
    "# #Taking input\n",
    "# rows = int(input(\"Enter number of rows\"))\n",
    "# cols = int(input(\"Enter number of columns\"))\n",
    "#\n",
    "# # declaring array with ones\n",
    "# arr = np.ones((rows,cols),'float')\n",
    "#\n",
    "# # initialise array with user values\n",
    "#\n",
    "# for i in range(rows):\n",
    "#     for j in range(cols):\n",
    "#         arr[i][j] = int(input(\"Enter the element\"))\n",
    "#\n",
    "#\n",
    "# # replace prime number by cube of the number\n",
    "# position=-1\n",
    "# for i in range(rows):\n",
    "#     for j in range(cols):\n",
    "#         position+=1\n",
    "#         if isPrime(position):\n",
    "#             arr[i][j] = arr[i][j]*arr[i][j]*arr[i][j]\n",
    "#\n",
    "# print(mat)\n",
    "\n",
    "\n",
    "import numpy as np\n",
    "import math\n",
    "def isPrime(n):\n",
    "    for i in range(2,(n//2)+1):\n",
    "        if n%i==0:\n",
    "            return False\n",
    "    return True\n",
    "\n",
    "l=[[1,2,3],\n",
    "  [4,5,6],\n",
    "  [7,8,9]]\n",
    "s=int(len(l))\n",
    "arr=np.array(l).reshape(s,s)\n",
    "print('Origial array:-')\n",
    "print(arr)\n",
    "\n",
    "for i in range(s):\n",
    "    for j in range(s):\n",
    "        xx=i*s+j\n",
    "        x=arr[i][j]\n",
    "        arr[i][j]=x*x*x if isPrime(xx) else x\n",
    "\n",
    "print('\\nModified array:-')\n",
    "print(arr)"
   ]
  },
  {
   "cell_type": "markdown",
   "id": "0419cc96",
   "metadata": {},
   "source": [
    "### 4.\tPython program to get the sum of every cubed value and its previous integer."
   ]
  },
  {
   "cell_type": "code",
   "execution_count": 13,
   "id": "a00aca6a",
   "metadata": {},
   "outputs": [
    {
     "name": "stdout",
     "output_type": "stream",
     "text": [
      "45\n"
     ]
    }
   ],
   "source": [
    "l=[[1,2,3],\n",
    "  [4,5,6],\n",
    "  [7,8,9]]\n",
    "s=int(len(l))\n",
    "arr=np.array(l).reshape(s,s)\n",
    "\n",
    "def isCube(n):\n",
    "    if n**(1/3)==abs(n**(1/3)):\n",
    "        return True\n",
    "    return False\n",
    "ans=0\n",
    "for i in range(s):\n",
    "    for j in range(s):\n",
    "        ans+=arr[i][j] if isCube(arr[i][j]) else 0\n",
    "print(ans)"
   ]
  },
  {
   "cell_type": "markdown",
   "id": "01289c60",
   "metadata": {},
   "source": [
    "### 5.\tGiven two arrays, find their intersection. Examples:\n",
    "\n",
    "Input:  arr1[] = [1, 3, 4, 5, 7]\n",
    "             arr2[] = [2, 3, 5, 6]\n"
   ]
  },
  {
   "cell_type": "code",
   "execution_count": 14,
   "id": "e41e6476",
   "metadata": {},
   "outputs": [
    {
     "name": "stdout",
     "output_type": "stream",
     "text": [
      "[3 5]\n"
     ]
    }
   ],
   "source": [
    "import numpy as np\n",
    "arr1=np.array([1,3,4,5,7])\n",
    "arr2=np.array([2,3,5,6])\n",
    "\n",
    "res=np.intersect1d(arr1, arr2)\n",
    "print(res)"
   ]
  },
  {
   "cell_type": "markdown",
   "id": "f0dbe042",
   "metadata": {},
   "source": [
    "### 6.\tCreate a 7 x 7  2D array having only multiples of 7. And return the last element of the same."
   ]
  },
  {
   "cell_type": "code",
   "execution_count": 15,
   "id": "cfd656b4",
   "metadata": {},
   "outputs": [
    {
     "name": "stdout",
     "output_type": "stream",
     "text": [
      "[[  7  14  21  28  35  42  49]\n",
      " [ 56  63  70  77  84  91  98]\n",
      " [105 112 119 126 133 140 147]\n",
      " [154 161 168 175 182 189 196]\n",
      " [203 210 217 224 231 238 245]\n",
      " [252 259 266 273 280 287 294]\n",
      " [301 308 315 322 329 336 343]]\n",
      "\n",
      "Last element of the matrix:  343\n"
     ]
    }
   ],
   "source": [
    "import numpy as np\n",
    "\n",
    "mat=np.ones((7,7), dtype='int64')\n",
    "\n",
    "mul=1\n",
    "# for i in range(0,7):\n",
    "#     for j in range(0,7):\n",
    "#         mat[i][j]=mul\n",
    "#         mul+=1\n",
    "#         mat[i][j]=mul*7\n",
    "\n",
    "# mat2=np.ones((7,7), dtype='int8')\n",
    "# new_mat2=np.multiply(mat2,7)\n",
    "\n",
    "# print(mat, '\\n')\n",
    "# for i in range(0,7):\n",
    "#     for j in range(0,7):\n",
    "#         mat[i][j]*=7\n",
    "\n",
    "# res= np.empty(shape=(7,7), dtype='int8')\n",
    "# for i in range(0,7):\n",
    "#     for j in range(0,7):\n",
    "#         res[i][j]=mat[i][j]+new_mat2[i][j]\n",
    "\n",
    "\n",
    "# new_mul=np.multiply(mat,7)\n",
    "# print(res, '\\n')\n",
    "# print(mat)\n",
    "for i in range(7):\n",
    "    for j in range(7):\n",
    "        if i==0 and j==0:\n",
    "            mat[0][0]=7\n",
    "            mul+=1\n",
    "        else:\n",
    "            mat[i][j]=7*mul\n",
    "            mul+=1\n",
    "\n",
    "print(mat)\n",
    "print('\\nLast element of the matrix: ', mat[6][6])"
   ]
  },
  {
   "cell_type": "markdown",
   "id": "b87471f5",
   "metadata": {},
   "source": [
    "### 7.\tChecker Board Patten using Numpy:\n",
    "[   1   0   1   0   1   0   1\n",
    "    0   1   0   1   0   1   0\n",
    "    1   0   1   0   1   0   1\n",
    "    0   1   0   1   0   1   0\n",
    "    1   0   1   0   1   0   1  ]\n"
   ]
  },
  {
   "cell_type": "code",
   "execution_count": 21,
   "id": "6ecdf693",
   "metadata": {},
   "outputs": [
    {
     "name": "stdout",
     "output_type": "stream",
     "text": [
      "[[1 0 1 0 1]\n",
      " [0 1 0 1 0]\n",
      " [1 0 1 0 1]\n",
      " [0 1 0 1 0]\n",
      " [1 0 1 0 1]\n",
      " [0 1 0 1 0]\n",
      " [1 0 1 0 1]]\n"
     ]
    }
   ],
   "source": [
    "x = np.ones((7, 5), dtype='int8')\n",
    "x[1::2, ::2] = 0\n",
    "x[::2, 1::2] = 0\n",
    "print(x)"
   ]
  },
  {
   "cell_type": "markdown",
   "id": "f491e353",
   "metadata": {},
   "source": [
    "### 8.\tCreate a given Matrix:\n",
    "[  A,     B,     C,       D\n",
    "   E,      F,     G,       H\n",
    "    I,      a,      K,       L\n",
    "   M,    N,     o,       P\n",
    "   Q,     R,      S,       T\n",
    "   U,     0,     W,      O ]\n",
    "\n",
    "Replace all the vowels by np.nan\n",
    "A, E, I, O U  -- >  np.nan\n",
    "Return the count of the missing values\n"
   ]
  },
  {
   "cell_type": "code",
   "execution_count": 20,
   "id": "bf793130",
   "metadata": {},
   "outputs": [
    {
     "name": "stdout",
     "output_type": "stream",
     "text": [
      "Given array\n",
      " [[nan, 'B', 'C', 'D'], [nan, 'F', 'G', 'H'], [nan, nan, 'K', 'L'], ['M', 'N', nan, 'P'], ['Q', 'R', 'S', 'T'], [nan, '0', 'W', nan]]\n",
      "\n",
      "Number of vowels are =  7\n"
     ]
    }
   ],
   "source": [
    "arr = [['A','B','C','D'],\n",
    "       ['E','F','G','H'],\n",
    "       ['I','a','K','L'],\n",
    "       ['M','N','o','P'],\n",
    "       ['Q','R','S','T'],\n",
    "       ['U','0','W','O']]\n",
    "counter=0\n",
    "\n",
    "for i in range(len(arr)):\n",
    "    for j in range(len(arr[0])):\n",
    "        if arr[i][j]=='A' or arr[i][j]=='E' or arr[i][j]=='I' or arr[i][j]=='O' or arr[i][j]=='U'or arr[i][j] =='a' or arr[i][j]=='e' or arr[i][j]==\"i\" or arr[i][j]=='o' or arr[i][j]=='u':\n",
    "            arr[i][j]=np.nan\n",
    "            counter+=1\n",
    "\n",
    "\n",
    "print('Given array\\n', arr)\n",
    "print(\"\\nNumber of vowels are = \",counter)"
   ]
  },
  {
   "cell_type": "code",
   "execution_count": null,
   "id": "728b8cde",
   "metadata": {},
   "outputs": [],
   "source": []
  }
 ],
 "metadata": {
  "kernelspec": {
   "display_name": "Python 3 (ipykernel)",
   "language": "python",
   "name": "python3"
  },
  "language_info": {
   "codemirror_mode": {
    "name": "ipython",
    "version": 3
   },
   "file_extension": ".py",
   "mimetype": "text/x-python",
   "name": "python",
   "nbconvert_exporter": "python",
   "pygments_lexer": "ipython3",
   "version": "3.9.13"
  }
 },
 "nbformat": 4,
 "nbformat_minor": 5
}
